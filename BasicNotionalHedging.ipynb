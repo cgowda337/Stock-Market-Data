{
 "cells": [
  {
   "cell_type": "code",
   "execution_count": 1,
   "id": "d8231e5d",
   "metadata": {},
   "outputs": [],
   "source": [
    "# Import packages\n",
    "import yfinance as yf\n",
    "import pandas as pd\n",
    "import seaborn as sns\n",
    "import numpy as np\n",
    "import matplotlib.pyplot as plt\n",
    "import statsmodels.tsa.stattools as ts\n",
    "from matplotlib import pyplot as plt\n",
    "import statistics\n",
    "import math"
   ]
  },
  {
   "cell_type": "code",
   "execution_count": 2,
   "id": "23ed0476",
   "metadata": {},
   "outputs": [
    {
     "name": "stdout",
     "output_type": "stream",
     "text": [
      "10\n"
     ]
    }
   ],
   "source": [
    "# amount of tickers used to hedge\n",
    "hedge_base = int(input())"
   ]
  },
  {
   "cell_type": "code",
   "execution_count": 3,
   "id": "4a18679c",
   "metadata": {},
   "outputs": [
    {
     "name": "stdout",
     "output_type": "stream",
     "text": [
      "50000\n"
     ]
    }
   ],
   "source": [
    "# notional to be hedged\n",
    "position_size = float(input())"
   ]
  },
  {
   "cell_type": "code",
   "execution_count": 4,
   "id": "f1c92fc0",
   "metadata": {
    "scrolled": true
   },
   "outputs": [
    {
     "data": {
      "text/plain": [
       "0     MMM\n",
       "1     AOS\n",
       "2     ABT\n",
       "3    ABBV\n",
       "4     ACN\n",
       "Name: Symbol, dtype: object"
      ]
     },
     "execution_count": 4,
     "metadata": {},
     "output_type": "execute_result"
    }
   ],
   "source": [
    "# Read and print the stock tickers that make up S&P500\n",
    "tickers = pd.read_html(\n",
    "    'https://en.wikipedia.org/wiki/List_of_S%26P_500_companies')[0]\n",
    "\n",
    "\n",
    "symbol = tickers['Symbol']\n",
    "symbol.head()\n"
   ]
  },
  {
   "cell_type": "code",
   "execution_count": 5,
   "id": "e1d04c40",
   "metadata": {},
   "outputs": [
    {
     "name": "stdout",
     "output_type": "stream",
     "text": [
      "[**********************85%****************       ]  429 of 502 completedGot error from yahoo api for ticker BRK.B, Error: {'code': 'Not Found', 'description': 'No data found, symbol may be delisted'}\n",
      "[*********************100%***********************]  502 of 502 completed\n",
      "\n",
      "2 Failed downloads:\n",
      "- BF.B: No data found for this date range, symbol may be delisted\n",
      "- BRK.B: No data found for this date range, symbol may be delisted\n"
     ]
    }
   ],
   "source": [
    "# Get the data for this tickers from yahoo finance\n",
    "data = yf.download(tickers.Symbol.to_list(),'2022-1-1','2022-12-31')\n",
    "data.head()\n",
    "df = pd.DataFrame(data=data)"
   ]
  },
  {
   "cell_type": "code",
   "execution_count": 6,
   "id": "eba445fd",
   "metadata": {
    "scrolled": true
   },
   "outputs": [],
   "source": [
    "x=df[\"Close\"].corr()\n",
    "matrix = np.triu(x)"
   ]
  },
  {
   "cell_type": "code",
   "execution_count": 7,
   "id": "bf42865d",
   "metadata": {},
   "outputs": [
    {
     "data": {
      "text/html": [
       "<div>\n",
       "<style scoped>\n",
       "    .dataframe tbody tr th:only-of-type {\n",
       "        vertical-align: middle;\n",
       "    }\n",
       "\n",
       "    .dataframe tbody tr th {\n",
       "        vertical-align: top;\n",
       "    }\n",
       "\n",
       "    .dataframe thead th {\n",
       "        text-align: right;\n",
       "    }\n",
       "</style>\n",
       "<table border=\"1\" class=\"dataframe\">\n",
       "  <thead>\n",
       "    <tr style=\"text-align: right;\">\n",
       "      <th></th>\n",
       "      <th>0</th>\n",
       "    </tr>\n",
       "  </thead>\n",
       "  <tbody>\n",
       "    <tr>\n",
       "      <th>A</th>\n",
       "      <td>0.355268</td>\n",
       "    </tr>\n",
       "    <tr>\n",
       "      <th>AAL</th>\n",
       "      <td>0.567521</td>\n",
       "    </tr>\n",
       "    <tr>\n",
       "      <th>AAP</th>\n",
       "      <td>0.385103</td>\n",
       "    </tr>\n",
       "    <tr>\n",
       "      <th>AAPL</th>\n",
       "      <td>0.356963</td>\n",
       "    </tr>\n",
       "    <tr>\n",
       "      <th>ABBV</th>\n",
       "      <td>0.227420</td>\n",
       "    </tr>\n",
       "    <tr>\n",
       "      <th>...</th>\n",
       "      <td>...</td>\n",
       "    </tr>\n",
       "    <tr>\n",
       "      <th>YUM</th>\n",
       "      <td>0.243214</td>\n",
       "    </tr>\n",
       "    <tr>\n",
       "      <th>ZBH</th>\n",
       "      <td>0.307948</td>\n",
       "    </tr>\n",
       "    <tr>\n",
       "      <th>ZBRA</th>\n",
       "      <td>0.472296</td>\n",
       "    </tr>\n",
       "    <tr>\n",
       "      <th>ZION</th>\n",
       "      <td>0.384138</td>\n",
       "    </tr>\n",
       "    <tr>\n",
       "      <th>ZTS</th>\n",
       "      <td>0.322367</td>\n",
       "    </tr>\n",
       "  </tbody>\n",
       "</table>\n",
       "<p>502 rows × 1 columns</p>\n",
       "</div>"
      ],
      "text/plain": [
       "             0\n",
       "A     0.355268\n",
       "AAL   0.567521\n",
       "AAP   0.385103\n",
       "AAPL  0.356963\n",
       "ABBV  0.227420\n",
       "...        ...\n",
       "YUM   0.243214\n",
       "ZBH   0.307948\n",
       "ZBRA  0.472296\n",
       "ZION  0.384138\n",
       "ZTS   0.322367\n",
       "\n",
       "[502 rows x 1 columns]"
      ]
     },
     "execution_count": 7,
     "metadata": {},
     "output_type": "execute_result"
    }
   ],
   "source": [
    "close = data[\"Adj Close\"]\n",
    "log = np.log(close/close.shift())\n",
    "vol = log.std()*252**.5\n",
    "volatility = pd.DataFrame(vol)\n",
    "volatility"
   ]
  },
  {
   "cell_type": "code",
   "execution_count": 8,
   "id": "19453f74",
   "metadata": {},
   "outputs": [],
   "source": [
    "matrix = np.triu(x)\n"
   ]
  },
  {
   "cell_type": "code",
   "execution_count": 13,
   "id": "70e2d646",
   "metadata": {},
   "outputs": [],
   "source": [
    "df2 = pd.DataFrame(data=x)\n",
    "ticker = \"AAPL\""
   ]
  },
  {
   "cell_type": "code",
   "execution_count": 10,
   "id": "1d2bef4e",
   "metadata": {},
   "outputs": [
    {
     "name": "stdout",
     "output_type": "stream",
     "text": [
      "TSLA AMZN EXR INVH GPN EW AVB EQR ESS AAPL LYV "
     ]
    },
    {
     "data": {
      "text/plain": [
       "TSLA    1.000000\n",
       "AMZN    0.911526\n",
       "EXR     0.902323\n",
       "INVH    0.896388\n",
       "GPN     0.883778\n",
       "EW      0.874036\n",
       "AVB     0.869714\n",
       "EQR     0.863718\n",
       "ESS     0.857950\n",
       "AAPL    0.854678\n",
       "LYV     0.838743\n",
       "Name: TSLA, dtype: float64"
      ]
     },
     "execution_count": 10,
     "metadata": {},
     "output_type": "execute_result"
    }
   ],
   "source": [
    "y = df2.nlargest(hedge_base+1,[ticker])\n",
    "for row in y.index:\n",
    "    print(row, end= \" \")\n",
    "y[ticker]"
   ]
  },
  {
   "cell_type": "code",
   "execution_count": 14,
   "id": "7627251c",
   "metadata": {},
   "outputs": [
    {
     "name": "stdout",
     "output_type": "stream",
     "text": [
      "MRK VLO LLY XOM WRB MPC NOC HES CI OXY "
     ]
    }
   ],
   "source": [
    "z = df2.nsmallest(hedge_base,[ticker])\n",
    "for row in z.index:\n",
    "    print(row, end= \" \")\n"
   ]
  },
  {
   "cell_type": "code",
   "execution_count": 15,
   "id": "9c67c9c1",
   "metadata": {},
   "outputs": [
    {
     "data": {
      "text/plain": [
       "MRK   -0.622813\n",
       "VLO   -0.613909\n",
       "LLY   -0.612889\n",
       "XOM   -0.601686\n",
       "WRB   -0.592190\n",
       "MPC   -0.582828\n",
       "NOC   -0.577988\n",
       "HES   -0.543871\n",
       "CI    -0.537491\n",
       "OXY   -0.530202\n",
       "Name: AAPL, dtype: float64"
      ]
     },
     "execution_count": 15,
     "metadata": {},
     "output_type": "execute_result"
    }
   ],
   "source": [
    "z[ticker]"
   ]
  },
  {
   "cell_type": "code",
   "execution_count": 186,
   "id": "1d308158",
   "metadata": {},
   "outputs": [],
   "source": [
    "bigdata = pd.concat([df2[ticker],volatility], axis=1, ignore_index=True)"
   ]
  },
  {
   "cell_type": "code",
   "execution_count": 189,
   "id": "8602d323",
   "metadata": {},
   "outputs": [
    {
     "data": {
      "text/html": [
       "<div>\n",
       "<style scoped>\n",
       "    .dataframe tbody tr th:only-of-type {\n",
       "        vertical-align: middle;\n",
       "    }\n",
       "\n",
       "    .dataframe tbody tr th {\n",
       "        vertical-align: top;\n",
       "    }\n",
       "\n",
       "    .dataframe thead th {\n",
       "        text-align: right;\n",
       "    }\n",
       "</style>\n",
       "<table border=\"1\" class=\"dataframe\">\n",
       "  <thead>\n",
       "    <tr style=\"text-align: right;\">\n",
       "      <th></th>\n",
       "      <th>0</th>\n",
       "      <th>1</th>\n",
       "    </tr>\n",
       "  </thead>\n",
       "  <tbody>\n",
       "    <tr>\n",
       "      <th>MRK</th>\n",
       "      <td>-5509.522564</td>\n",
       "      <td>1443.800387</td>\n",
       "    </tr>\n",
       "    <tr>\n",
       "      <th>XOM</th>\n",
       "      <td>-5389.195337</td>\n",
       "      <td>2528.959968</td>\n",
       "    </tr>\n",
       "    <tr>\n",
       "      <th>MPC</th>\n",
       "      <td>-5095.500213</td>\n",
       "      <td>2606.932591</td>\n",
       "    </tr>\n",
       "    <tr>\n",
       "      <th>PSX</th>\n",
       "      <td>-4923.761872</td>\n",
       "      <td>2824.539863</td>\n",
       "    </tr>\n",
       "    <tr>\n",
       "      <th>LLY</th>\n",
       "      <td>-4901.165902</td>\n",
       "      <td>1963.814020</td>\n",
       "    </tr>\n",
       "    <tr>\n",
       "      <th>HES</th>\n",
       "      <td>-4839.800578</td>\n",
       "      <td>3211.417862</td>\n",
       "    </tr>\n",
       "    <tr>\n",
       "      <th>CI</th>\n",
       "      <td>-4800.398550</td>\n",
       "      <td>1917.050055</td>\n",
       "    </tr>\n",
       "  </tbody>\n",
       "</table>\n",
       "</div>"
      ],
      "text/plain": [
       "               0            1\n",
       "MRK -5509.522564  1443.800387\n",
       "XOM -5389.195337  2528.959968\n",
       "MPC -5095.500213  2606.932591\n",
       "PSX -4923.761872  2824.539863\n",
       "LLY -4901.165902  1963.814020\n",
       "HES -4839.800578  3211.417862\n",
       "CI  -4800.398550  1917.050055"
      ]
     },
     "execution_count": 189,
     "metadata": {},
     "output_type": "execute_result"
    }
   ],
   "source": [
    "volcorr = bigdata.nsmallest(hedge_base,0)\n",
    "adjvalue = volcorr.multiply(position_size)\n",
    "nothedge = adjvalue.divide(hedge_base)\n",
    "nothedge"
   ]
  },
  {
   "cell_type": "code",
   "execution_count": 179,
   "id": "101c78f3",
   "metadata": {},
   "outputs": [],
   "source": [
    "df3 = z[ticker]"
   ]
  },
  {
   "cell_type": "code",
   "execution_count": 180,
   "id": "4dc33764",
   "metadata": {},
   "outputs": [],
   "source": [
    "adjusted_values = df3.multiply(position_size)"
   ]
  },
  {
   "cell_type": "code",
   "execution_count": 181,
   "id": "e88f434f",
   "metadata": {},
   "outputs": [
    {
     "data": {
      "text/plain": [
       "MRK   -5509.522564\n",
       "XOM   -5389.195337\n",
       "MPC   -5095.500213\n",
       "PSX   -4923.761872\n",
       "LLY   -4901.165902\n",
       "HES   -4839.800578\n",
       "CI    -4800.398550\n",
       "Name: TSLA, dtype: float64"
      ]
     },
     "execution_count": 181,
     "metadata": {},
     "output_type": "execute_result"
    }
   ],
   "source": [
    "notionalhedge = adjusted_values.divide(hedge_base)\n",
    "notionalhedge"
   ]
  },
  {
   "cell_type": "code",
   "execution_count": null,
   "id": "24d81427",
   "metadata": {},
   "outputs": [],
   "source": []
  }
 ],
 "metadata": {
  "kernelspec": {
   "display_name": "Python 3 (ipykernel)",
   "language": "python",
   "name": "python3"
  },
  "language_info": {
   "codemirror_mode": {
    "name": "ipython",
    "version": 3
   },
   "file_extension": ".py",
   "mimetype": "text/x-python",
   "name": "python",
   "nbconvert_exporter": "python",
   "pygments_lexer": "ipython3",
   "version": "3.9.12"
  }
 },
 "nbformat": 4,
 "nbformat_minor": 5
}
